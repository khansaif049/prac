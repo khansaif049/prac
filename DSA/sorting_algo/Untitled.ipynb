{
 "cells": [
  {
   "cell_type": "code",
   "execution_count": 44,
   "id": "ffd12659",
   "metadata": {},
   "outputs": [],
   "source": [
    "a = [0,0,1,1,2,2,2,2]\n"
   ]
  },
  {
   "cell_type": "code",
   "execution_count": 45,
   "id": "feb94b2b",
   "metadata": {},
   "outputs": [],
   "source": [
    "def find_index(a,index):\n",
    "    start = 0\n",
    "    end = len(a)\n",
    "    \n",
    "    mid = (start+end)//2\n",
    "   \n",
    "\n",
    "    while(start <= end):\n",
    "        print(mid,\"middd\")\n",
    "        if mid >= len(a):\n",
    "            return -1\n",
    "        if a[mid] == index:\n",
    "            return mid\n",
    "\n",
    "        if index > a[mid]:\n",
    "            start = mid+1\n",
    "        else:\n",
    "            end = mid -1\n",
    "\n",
    "        mid = (start+end)//2\n",
    "    return -1\n",
    "    \n",
    "    \n",
    "# def find_prop(a,index):\n",
    "    \n",
    "    "
   ]
  },
  {
   "cell_type": "code",
   "execution_count": 47,
   "id": "aa55560a",
   "metadata": {},
   "outputs": [
    {
     "name": "stdout",
     "output_type": "stream",
     "text": [
      "4 middd\n",
      "4 manini\n"
     ]
    }
   ],
   "source": [
    "print(find_index(a,2),\"manini\")"
   ]
  },
  {
   "cell_type": "code",
   "execution_count": null,
   "id": "ac4c437c",
   "metadata": {},
   "outputs": [],
   "source": []
  }
 ],
 "metadata": {
  "kernelspec": {
   "display_name": "Python 3 (ipykernel)",
   "language": "python",
   "name": "python3"
  },
  "language_info": {
   "codemirror_mode": {
    "name": "ipython",
    "version": 3
   },
   "file_extension": ".py",
   "mimetype": "text/x-python",
   "name": "python",
   "nbconvert_exporter": "python",
   "pygments_lexer": "ipython3",
   "version": "3.9.12"
  }
 },
 "nbformat": 4,
 "nbformat_minor": 5
}
