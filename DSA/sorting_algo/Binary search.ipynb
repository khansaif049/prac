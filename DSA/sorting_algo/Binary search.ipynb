{
 "cells": [
  {
   "cell_type": "code",
   "execution_count": 1,
   "id": "ed53d901",
   "metadata": {},
   "outputs": [],
   "source": [
    "a = [1,3,5,6,7,8,9]"
   ]
  },
  {
   "cell_type": "code",
   "execution_count": 90,
   "id": "f6a75bed",
   "metadata": {},
   "outputs": [],
   "source": [
    "def find_index(a,val):\n",
    "    start = 0\n",
    "    end = len(a) - 1\n",
    "    \n",
    "    mid = (start+end)//2\n",
    "    \n",
    "    while(start<=end):\n",
    "        \n",
    "        if a[mid] == val:\n",
    "            return mid\n",
    "        \n",
    "        if a[mid] > val:\n",
    "            end = mid - 1\n",
    "            \n",
    "        else:\n",
    "            start = mid + 1\n",
    "            \n",
    "        mid =( start +end)//2\n",
    "    return -1\n",
    "\n",
    "\n",
    "def first(a,val):\n",
    "    start = 0\n",
    "    end = len(a) - 1\n",
    "    ans = -1\n",
    "    \n",
    "    mid = (start+end)//2\n",
    "    \n",
    "    while(start<=end):\n",
    "        \n",
    "        if a[mid] == val:\n",
    "            ans = mid\n",
    "            e = mid - 1\n",
    "        \n",
    "        if a[mid] > val:\n",
    "            end = mid - 1\n",
    "            \n",
    "        else:\n",
    "            start = mid + 1\n",
    "            \n",
    "        mid =( start +end)//2\n",
    "    return ans\n",
    "\n",
    "\n",
    "def last(a,val):\n",
    "    start = 0\n",
    "    end = len(a) - 1\n",
    "    ans = -1\n",
    "    \n",
    "    mid = (start+end)//2\n",
    "    \n",
    "    while(start<=end):\n",
    "        \n",
    "        if a[mid] == val:\n",
    "            ans = mid\n",
    "            start = mid + 1\n",
    "        \n",
    "        if a[mid] > val:\n",
    "            end = mid - 1\n",
    "            \n",
    "        else:\n",
    "            start = mid + 1\n",
    "            \n",
    "        mid =( start +end)//2\n",
    "    return ans\n"
   ]
  },
  {
   "cell_type": "code",
   "execution_count": 91,
   "id": "05a0c4d9",
   "metadata": {},
   "outputs": [
    {
     "data": {
      "text/plain": [
       "6"
      ]
     },
     "execution_count": 91,
     "metadata": {},
     "output_type": "execute_result"
    }
   ],
   "source": [
    "a = [1,3,5,6,6,6,6,7,8,9]\n",
    "last(a,6)"
   ]
  },
  {
   "cell_type": "code",
   "execution_count": 63,
   "id": "a168b852",
   "metadata": {},
   "outputs": [],
   "source": [
    "def first(arr,key):\n",
    "    start = 0\n",
    "    end = len(arr) -1\n",
    "    ans = -1\n",
    "    mid = (start + end)//2\n",
    "    \n",
    "    while(end>=start):\n",
    "        \n",
    "        if arr[mid] == key:\n",
    "            ans = mid \n",
    "            end = mid - 1\n",
    "            \n",
    "        if key > arr[mid]:\n",
    "            start = mid + 1\n",
    "        if key <arr[mid]:\n",
    "            end = mid -1\n",
    "        mid = (start +end) //2\n",
    "        \n",
    "    return ans\n",
    "\n",
    "\n",
    "def last(arr,key):\n",
    "    start = 0\n",
    "    end = len(arr) -1\n",
    "    ans = -1\n",
    "    mid = (start + end)//2\n",
    "    \n",
    "    while(end>=start):\n",
    "        \n",
    "        if arr[mid] == key:\n",
    "            ans = mid \n",
    "            start = mid + 1\n",
    "            \n",
    "        if key > arr[mid]:\n",
    "            start = mid + 1\n",
    "        if key <arr[mid]:\n",
    "            end = mid -1\n",
    "        mid = (start +end) //2\n",
    "#         print(start,\"start\",end)\n",
    "        \n",
    "    return ans\n",
    "            "
   ]
  },
  {
   "cell_type": "code",
   "execution_count": 64,
   "id": "69d9f57e",
   "metadata": {},
   "outputs": [
    {
     "name": "stdout",
     "output_type": "stream",
     "text": [
      "3\n",
      "2\n"
     ]
    }
   ],
   "source": [
    "a = [1,2,3,3,5]\n",
    "print(last(a,3))\n",
    "print(first(a,3))"
   ]
  },
  {
   "cell_type": "code",
   "execution_count": 87,
   "id": "e889922f",
   "metadata": {},
   "outputs": [],
   "source": [
    "def find_max_ele_in_mount(a):\n",
    "    s = 0\n",
    "    e = len(a)-1\n",
    "    \n",
    "    mid = (s+e)//2\n",
    "    print(mid,\"midddd\")\n",
    "    while(s<e):\n",
    "        if arr[mid] < arr[mid+1]:\n",
    "            s = mid + 1\n",
    "        else:\n",
    "            e = mid\n",
    "        print(s,\"sssss\")\n",
    "        mid = (s+e)//2\n",
    "        \n",
    "    return s\n",
    "        "
   ]
  },
  {
   "cell_type": "code",
   "execution_count": 88,
   "id": "9f33545c",
   "metadata": {},
   "outputs": [
    {
     "name": "stdout",
     "output_type": "stream",
     "text": [
      "1 midddd\n",
      "0 sssss\n",
      "1 sssss\n"
     ]
    },
    {
     "data": {
      "text/plain": [
       "1"
      ]
     },
     "execution_count": 88,
     "metadata": {},
     "output_type": "execute_result"
    }
   ],
   "source": [
    "find_max_ele_in_mount([3,4,5,1])"
   ]
  },
  {
   "cell_type": "code",
   "execution_count": null,
   "id": "e5bc8997",
   "metadata": {},
   "outputs": [],
   "source": []
  },
  {
   "cell_type": "code",
   "execution_count": null,
   "id": "1a3f15ba",
   "metadata": {},
   "outputs": [],
   "source": []
  },
  {
   "cell_type": "code",
   "execution_count": 52,
   "id": "da3241b3",
   "metadata": {},
   "outputs": [],
   "source": [
    "a = [1,3,3,4,7,9,11,13,15,19,27]"
   ]
  },
  {
   "cell_type": "code",
   "execution_count": 53,
   "id": "72507e42",
   "metadata": {},
   "outputs": [],
   "source": [
    "def find_index(a,val):\n",
    "    \n",
    "    start = 0\n",
    "    end = len(a)-1\n",
    "    \n",
    "    mid = (start + end)//2\n",
    "    \n",
    "    while(start<=end):\n",
    "        \n",
    "        print(a[mid],\"midddleee\")\n",
    "        if a[mid] == val:\n",
    "            return mid \n",
    "        \n",
    "        if a[mid]>val:\n",
    "            end = mid -1\n",
    "        else:\n",
    "            start = mid +1\n",
    "            \n",
    "        mid = (start+end)//2\n",
    "        \n",
    "    return -1"
   ]
  },
  {
   "cell_type": "code",
   "execution_count": 54,
   "id": "eb0d981b",
   "metadata": {},
   "outputs": [
    {
     "name": "stdout",
     "output_type": "stream",
     "text": [
      "9 midddleee\n",
      "3 midddleee\n"
     ]
    },
    {
     "data": {
      "text/plain": [
       "2"
      ]
     },
     "execution_count": 54,
     "metadata": {},
     "output_type": "execute_result"
    }
   ],
   "source": [
    "find_index(a,3)"
   ]
  },
  {
   "cell_type": "code",
   "execution_count": 67,
   "id": "5c729171",
   "metadata": {},
   "outputs": [],
   "source": [
    "def find_first_index(a,val):\n",
    "    \n",
    "    start = 0\n",
    "    end = len(a)-1\n",
    "    ans = -1\n",
    "    mid = (start + end)//2\n",
    "    \n",
    "    while(start<=end):\n",
    "        \n",
    "        print(a[mid],\"midddleee\")\n",
    "        if a[mid] == val:\n",
    "            ans = mid\n",
    "            end = mid - 1\n",
    "        \n",
    "        if a[mid]>val:\n",
    "            end = mid -1\n",
    "        else:\n",
    "            start = mid +1\n",
    "            \n",
    "        mid = (start+end)//2\n",
    "        \n",
    "    return ans"
   ]
  },
  {
   "cell_type": "code",
   "execution_count": 70,
   "id": "c57aa315",
   "metadata": {},
   "outputs": [],
   "source": [
    "def find_last_index(a,val):\n",
    "    \n",
    "    start = 0\n",
    "    end = len(a)-1\n",
    "    ans = -1\n",
    "    mid = (start + end)//2\n",
    "    \n",
    "    while(start<=end):\n",
    "        \n",
    "        print(a[mid],\"midddleee\")\n",
    "        if a[mid] == val:\n",
    "            ans = mid\n",
    "            start = mid + 1\n",
    "        \n",
    "        if a[mid]>val:\n",
    "            end = mid -1\n",
    "        else:\n",
    "            start = mid +1\n",
    "            \n",
    "        mid = (start+end)//2\n",
    "        \n",
    "    return ans"
   ]
  },
  {
   "cell_type": "code",
   "execution_count": 72,
   "id": "13fb70ed",
   "metadata": {},
   "outputs": [
    {
     "name": "stdout",
     "output_type": "stream",
     "text": [
      "3 midddleee\n",
      "3 midddleee\n",
      "3 midddleee\n",
      "5 midddleee\n"
     ]
    },
    {
     "data": {
      "text/plain": [
       "6"
      ]
     },
     "execution_count": 72,
     "metadata": {},
     "output_type": "execute_result"
    }
   ],
   "source": [
    "a = [1,2,3,3,3,3,3,5]\n",
    "find_last_index(a,3)"
   ]
  },
  {
   "cell_type": "code",
   "execution_count": null,
   "id": "63d9f32e",
   "metadata": {},
   "outputs": [],
   "source": []
  },
  {
   "cell_type": "code",
   "execution_count": null,
   "id": "1a4032dd",
   "metadata": {},
   "outputs": [],
   "source": []
  },
  {
   "cell_type": "code",
   "execution_count": null,
   "id": "38d6e18d",
   "metadata": {},
   "outputs": [],
   "source": []
  },
  {
   "cell_type": "code",
   "execution_count": null,
   "id": "93e64aed",
   "metadata": {},
   "outputs": [],
   "source": []
  },
  {
   "cell_type": "code",
   "execution_count": null,
   "id": "cc7f6615",
   "metadata": {},
   "outputs": [],
   "source": []
  },
  {
   "cell_type": "code",
   "execution_count": 44,
   "id": "ffd12659",
   "metadata": {},
   "outputs": [],
   "source": [
    "a = [0,0,1,1,2,2,2,2]\n"
   ]
  },
  {
   "cell_type": "code",
   "execution_count": 45,
   "id": "feb94b2b",
   "metadata": {},
   "outputs": [],
   "source": [
    "def find_index(a,index):\n",
    "    start = 0\n",
    "    end = len(a)\n",
    "    \n",
    "    mid = (start+end)//2\n",
    "   \n",
    "\n",
    "    while(start <= end):\n",
    "        print(mid,\"middd\")\n",
    "        if mid >= len(a):\n",
    "            return -1\n",
    "        if a[mid] == index:\n",
    "            return mid\n",
    "\n",
    "        if index > a[mid]:\n",
    "            start = mid+1\n",
    "        else:\n",
    "            end = mid -1\n",
    "\n",
    "        mid = (start+end)//2\n",
    "    return -1\n",
    "    \n",
    "    \n",
    "# def find_prop(a,index):\n",
    "    \n",
    "    "
   ]
  },
  {
   "cell_type": "code",
   "execution_count": 47,
   "id": "aa55560a",
   "metadata": {},
   "outputs": [
    {
     "name": "stdout",
     "output_type": "stream",
     "text": [
      "4 middd\n",
      "4 manini\n"
     ]
    }
   ],
   "source": [
    "print(find_index(a,2),\"manini\")"
   ]
  },
  {
   "cell_type": "code",
   "execution_count": null,
   "id": "ac4c437c",
   "metadata": {},
   "outputs": [],
   "source": []
  }
 ],
 "metadata": {
  "kernelspec": {
   "display_name": "Python 3 (ipykernel)",
   "language": "python",
   "name": "python3"
  },
  "language_info": {
   "codemirror_mode": {
    "name": "ipython",
    "version": 3
   },
   "file_extension": ".py",
   "mimetype": "text/x-python",
   "name": "python",
   "nbconvert_exporter": "python",
   "pygments_lexer": "ipython3",
   "version": "3.9.12"
  }
 },
 "nbformat": 4,
 "nbformat_minor": 5
}
